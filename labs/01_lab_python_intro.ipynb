{
 "cells": [
  {
   "attachments": {},
   "cell_type": "markdown",
   "id": "596b4987",
   "metadata": {},
   "source": [
    "# Лабораторная работа №1\n",
    "\n",
    "ФИО:   Шабалин Данила Алексеевич\n",
    "\n",
    "Группа: БИВТ-20-6\n"
   ]
  },
  {
   "cell_type": "markdown",
   "id": "a72f14da",
   "metadata": {},
   "source": [
    "# 1. Базовые типы переменных"
   ]
  },
  {
   "cell_type": "markdown",
   "id": "ccfb5acf",
   "metadata": {},
   "source": [
    "Создайте переменные так, чтобы они были объектами определенного типа (типы приведены в комментариях)."
   ]
  },
  {
   "cell_type": "code",
   "execution_count": 2,
   "id": "db46e8d6",
   "metadata": {},
   "outputs": [],
   "source": [
    "int_variable = 11  # int\n",
    "assert isinstance(int_variable, int)\n",
    "\n",
    "float_variable = 3.14  # float\n",
    "assert isinstance(float_variable, float)\n",
    "\n",
    "string_variable = \"Hello, world!\"  # string\n",
    "assert isinstance(string_variable, str)\n",
    "\n",
    "bool_variable = True  # bool\n",
    "assert isinstance(bool_variable, bool)"
   ]
  },
  {
   "cell_type": "code",
   "execution_count": 3,
   "id": "ed1861a0",
   "metadata": {},
   "outputs": [],
   "source": [
    "list_variable = [1, 2, 3, 4, 5]  # list\n",
    "assert isinstance(list_variable, list)\n",
    "\n",
    "tuple_variable = (1, 2, 3, 4, 5)  # tuple\n",
    "assert isinstance(tuple_variable, tuple)\n",
    "\n",
    "set_variable = {1, 2, 3, 4, 5}  # set\n",
    "assert isinstance(set_variable, set)\n",
    "\n",
    "dict_variable = {\"key1\": \"value1\", \"key2\": \"value2\"}  # dict\n",
    "assert isinstance(dict_variable, dict)"
   ]
  },
  {
   "cell_type": "markdown",
   "id": "52830470",
   "metadata": {},
   "source": [
    "# 2. Различные функции"
   ]
  },
  {
   "cell_type": "code",
   "execution_count": 4,
   "id": "3eb16cbe",
   "metadata": {},
   "outputs": [],
   "source": [
    "def difference_of_two_numbers(first, second):\n",
    "    \"\"\"Возвращает разницу между первым и вторым аргументом\"\"\"\n",
    "    return abs(first - second)\n",
    "    pass\n",
    "\n",
    "\n",
    "assert difference_of_two_numbers(2, 1) == 1\n",
    "assert difference_of_two_numbers(4, 1) == 3\n",
    "assert difference_of_two_numbers(10, 0) == 10\n",
    "assert difference_of_two_numbers(-5, -6) == 1"
   ]
  },
  {
   "cell_type": "code",
   "execution_count": 5,
   "id": "65ff4881",
   "metadata": {},
   "outputs": [],
   "source": [
    "def condition_function(input_number):\n",
    "    \"\"\"\n",
    "    Если входное число меньше либо равно 0, то умножить его на 2.\n",
    "    В противном случае, если число больше 0, но меньше или равно 10, умножить на 3.\n",
    "    Во всех прочих случаях поделить на 10.\n",
    "    \"\"\"\n",
    "    if input_number <= 0:\n",
    "        return input_number * 2\n",
    "    elif input_number <= 10:\n",
    "        return input_number * 3\n",
    "    else:\n",
    "        return input_number / 10\n",
    "    pass\n",
    "\n",
    "\n",
    "assert condition_function(0) == 0\n",
    "assert condition_function(-1) == -2\n",
    "assert condition_function(1) == 3\n",
    "assert condition_function(10) == 30\n",
    "assert condition_function(11) == 1.1\n",
    "assert condition_function(20) == 2"
   ]
  },
  {
   "cell_type": "code",
   "execution_count": 6,
   "id": "51264059",
   "metadata": {},
   "outputs": [],
   "source": [
    "def calculator(number_1, operation, number_2):\n",
    "    \"\"\"\n",
    "    Простой оператор, способный выполнять операции +, -, *, /.\n",
    "    На входе первое число, операция в виде строки и второе число.\n",
    "    \n",
    "    Пример: \n",
    "    >>> calculator(1, \"+\", 1)\n",
    "    >>> 2\n",
    "    \"\"\"\n",
    "    if operation == \"+\":\n",
    "        return number_1 + number_2\n",
    "    elif operation == \"-\":\n",
    "        return number_1 - number_2\n",
    "    elif operation == \"*\":\n",
    "        return number_1 * number_2\n",
    "    elif operation == \"/\":\n",
    "        return number_1 / number_2\n",
    "    else:\n",
    "        raise ValueError(\"Некорректная операция\")\n",
    "    pass\n",
    "\n",
    "\n",
    "assert calculator(1, \"+\", 2) == 3\n",
    "assert calculator(3, \"-\", 1) == 2\n",
    "assert calculator(4, \"*\", 3) == 12\n",
    "assert calculator(2, \"/\", 2) == 1"
   ]
  },
  {
   "cell_type": "code",
   "execution_count": 7,
   "id": "02255ff4",
   "metadata": {},
   "outputs": [],
   "source": [
    "def number_of_unique_elements(input_list):\n",
    "    \"\"\"\n",
    "    Считает количество уникальных элементов в листе.\n",
    "    \"\"\"\n",
    "    return len(set(input_list))\n",
    "    pass\n",
    "\n",
    "\n",
    "assert number_of_unique_elements([1, 2, 3]) == 3\n",
    "assert number_of_unique_elements([1] * 93) == 1\n",
    "assert number_of_unique_elements(list(range(1000))) == 1000"
   ]
  },
  {
   "cell_type": "code",
   "execution_count": 8,
   "id": "2a2a2363",
   "metadata": {},
   "outputs": [],
   "source": [
    "def counter(input_list):\n",
    "    \"\"\"\n",
    "    Считает количество вхождений каждого из элементов листа.\n",
    "    Возвращает словарь вида {число: количество вхождений}\n",
    "    \n",
    "    Замечание (!): встроенным в collections Counter'ом пользоваться нельзя\n",
    "    \n",
    "    Например:\n",
    "    counter([1, 1, 2, 3]) вернет {1: 2, 2: 1, 3: 1}\n",
    "    \"\"\"\n",
    "    result_dict = {}\n",
    "    for element in input_list:\n",
    "        if element in result_dict:\n",
    "            result_dict[element] += 1\n",
    "        else:\n",
    "            result_dict[element] = 1\n",
    "    return result_dict\n",
    "    pass\n",
    "\n",
    "\n",
    "assert counter([1, 1, 1, 2, 3]) == {1: 3, 2: 1, 3: 1}\n",
    "assert counter([1] * 1000) == {1: 1000}\n",
    "assert counter([1, 3, 5] * 100) == {1: 100, 3: 100, 5: 100}"
   ]
  },
  {
   "cell_type": "code",
   "execution_count": 9,
   "id": "c1498018",
   "metadata": {},
   "outputs": [],
   "source": [
    "def multiply_nums(input_string):\n",
    "    \"\"\"\n",
    "    Перемножить числа, переданные в строке, перечисленные через запятую.\n",
    "    \n",
    "    hint: можно использовать метод .split()\n",
    "    \"\"\"\n",
    "    nums = [int(num) for num in input_string.split(\",\")]\n",
    "    result = 1\n",
    "    for num in nums:\n",
    "        result *= num\n",
    "    return result\n",
    "    pass\n",
    "\n",
    "\n",
    "assert multiply_nums(\"2, 3\") == 6\n",
    "assert multiply_nums(\"1, 1, 1, 1, 1, 1, 1\") == 1\n",
    "assert multiply_nums(\"345, 4576, 794, 325, 0\") == 0"
   ]
  },
  {
   "cell_type": "markdown",
   "id": "202c838a",
   "metadata": {},
   "source": [
    "Реализуйте следующую функцию:\n",
    "$$\n",
    "y = sin(x)\\cdot cos(x)\n",
    "$$\n",
    "P.S. используйте библиотеку `math`"
   ]
  },
  {
   "cell_type": "code",
   "execution_count": 13,
   "id": "4121596c",
   "metadata": {},
   "outputs": [],
   "source": [
    "def custom_function(x):\n",
    "    \"\"\"\n",
    "    Реализуйте функцию, описанную выше.\n",
    "    \"\"\"\n",
    "    import math\n",
    "\n",
    "    return math.sin(x) * math.cos(x)\n",
    "    pass\n",
    "\n",
    "assert round(custom_function(1), 3) == 0.455\n",
    "assert round(custom_function(1.5), 3) == 0.071\n",
    "assert round(custom_function(2), 3) == -0.378\n",
    "assert custom_function(0) == 0"
   ]
  },
  {
   "cell_type": "markdown",
   "id": "7a2210d6",
   "metadata": {},
   "source": [
    "Реализуйте следующую функцию:\n",
    "$$\n",
    "y = \\prod\\limits_{n = 1}^n \\frac{(n+2)^x + ln(x)}{x^2 + 4n}\n",
    "$$\n",
    "P.S. используйте библиотеку `math`"
   ]
  },
  {
   "cell_type": "code",
   "execution_count": 14,
   "id": "b4698ba6",
   "metadata": {},
   "outputs": [],
   "source": [
    "def custom_function_1(x, n):\n",
    "    \"\"\"\n",
    "    Реализуйте функцию, описанную выше.\n",
    "    \"\"\"\n",
    "    import math\n",
    "\n",
    "    res = 1\n",
    "    for i in range(1, n+1):\n",
    "        res *= ((i+2)**x + math.log(x)) / (x**2 + 4*i)\n",
    "    return res\n",
    "    pass\n",
    "\n",
    "\n",
    "assert round(custom_function_1(2, 3), 3) == 2.707\n",
    "assert round(custom_function_1(3, 2), 3) == 8.277\n",
    "assert round(custom_function_1(3, 3), 3) == 49.7"
   ]
  },
  {
   "cell_type": "code",
   "execution_count": 15,
   "id": "b9a4db60",
   "metadata": {},
   "outputs": [],
   "source": [
    "class MyList:\n",
    "    def __init__(self, lst):\n",
    "        self.lst = lst\n",
    "        pass\n",
    "    \n",
    "    def return_sum(self):\n",
    "        \"\"\"\n",
    "        Возвращает сумму всех элементов сохраненного листа.\n",
    "        Пользоваться sum нельзя!\n",
    "        \"\"\"\n",
    "        s = 0\n",
    "        for el in self.lst:\n",
    "            s += el\n",
    "        return s\n",
    "        pass\n",
    "    \n",
    "    def make_reverse(self):\n",
    "        \"\"\"\n",
    "        Разворачивает сохраненный лист.\n",
    "        \"\"\"\n",
    "        return self.lst[::-1]\n",
    "        pass\n",
    "    \n",
    "    def make_slice(self, start, stop):\n",
    "        \"\"\"\n",
    "        Делает слайсинг сохраненного листа.\n",
    "        \"\"\"\n",
    "        return self.lst[start:stop]\n",
    "        pass\n",
    "    \n",
    "    \n",
    "a = MyList([1, 2, 3, 4])\n",
    "assert a.return_sum() == 10\n",
    "assert a.make_reverse() == [4, 3, 2, 1]\n",
    "assert a.make_slice(0, 2) == [1, 2]\n",
    "\n",
    "b = MyList([5, 6, 6, 5])\n",
    "assert b.return_sum() == 22\n",
    "assert b.make_reverse() == [5, 6, 6, 5]\n",
    "assert b.make_slice(1, 2) == [6]"
   ]
  }
 ],
 "metadata": {
  "kernelspec": {
   "display_name": "Python 3 (ipykernel)",
   "language": "python",
   "name": "python3"
  },
  "language_info": {
   "codemirror_mode": {
    "name": "ipython",
    "version": 3
   },
   "file_extension": ".py",
   "mimetype": "text/x-python",
   "name": "python",
   "nbconvert_exporter": "python",
   "pygments_lexer": "ipython3",
   "version": "3.10.5"
  }
 },
 "nbformat": 4,
 "nbformat_minor": 5
}
